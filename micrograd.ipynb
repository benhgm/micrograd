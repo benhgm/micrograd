{
 "cells": [
  {
   "cell_type": "code",
   "execution_count": 143,
   "metadata": {},
   "outputs": [],
   "source": [
    "import math\n",
    "import random\n",
    "import numpy as np\n",
    "import matplotlib.pyplot as plt\n",
    "%matplotlib inline"
   ]
  },
  {
   "cell_type": "code",
   "execution_count": 156,
   "metadata": {},
   "outputs": [],
   "source": [
    "class Value:\n",
    "\n",
    "    def __init__(self, data, _children=(), _op='', label=''):\n",
    "        self.data = data\n",
    "        self.grad = 0.0\n",
    "        self._backward = lambda: None\n",
    "        self._prev = set(_children)\n",
    "        self._op = _op\n",
    "        self.label = label\n",
    "\n",
    "    def __repr__(self):\n",
    "        return f\"Value(data={self.data})\"\n",
    "    \n",
    "    def __add__(self, other):\n",
    "        other = other if isinstance(other, Value) else Value(other)\n",
    "        out = Value(self.data + other.data, (self, other), '+')\n",
    "        \n",
    "        def _backward():\n",
    "            self.grad += 1.0 * out.grad\n",
    "            other.grad += 1.0 * out.grad \n",
    "        out._backward = _backward\n",
    "\n",
    "        return out\n",
    "\n",
    "    def __mul__(self, other):\n",
    "        other = other if isinstance(other, Value) else Value(other)\n",
    "        out = Value(self.data * other.data, (self, other), '*')\n",
    "\n",
    "        def _backward():\n",
    "            self.grad += other.data * out.grad\n",
    "            other.grad += self.data * out.grad\n",
    "\n",
    "        out._backward = _backward\n",
    "        return out\n",
    "    \n",
    "    def __pow__(self, other):\n",
    "        assert isinstance(other, (int, float)), \"only supporting int/float powers for now\"\n",
    "        out = Value(self.data**other, (self, ), f'**{other}')\n",
    "\n",
    "        def _backward():\n",
    "            self.grad += other * (self.data **(other - 1)) * out.grad\n",
    "        out._backward = _backward\n",
    "\n",
    "        return out\n",
    "    \n",
    "    def __radd__(self, other):\n",
    "        return self + other\n",
    "    \n",
    "    def __rmul__(self, other): # other * self\n",
    "        return self * other\n",
    "    \n",
    "    def __truediv__(self, other): # self / other\n",
    "        return self * other**-1\n",
    "    \n",
    "    def __neg__(self): # -self\n",
    "        return self * -1\n",
    "    \n",
    "    def __sub__(self, other): # self - other\n",
    "        return self + (-other)\n",
    "    \n",
    "    def tanh(self):\n",
    "        x = self.data\n",
    "        t = (math.exp(2*x) - 1) / (math.exp(2*x) + 1)\n",
    "        out = Value(t, (self, ), 'tanh')\n",
    "\n",
    "        def _backward():\n",
    "            self.grad += (1 - t**2) * out.grad \n",
    "        out._backward = _backward\n",
    "        \n",
    "        return out\n",
    "    \n",
    "    def exp(self):\n",
    "        x = self.data\n",
    "        out = Value(math.exp(x), (self, ), 'exp')\n",
    "\n",
    "        def _backward():\n",
    "            self.grad += out.data * out.grad\n",
    "        out._backward = _backward\n",
    "\n",
    "        return out\n",
    "\n",
    "    def backward(self):\n",
    "        topo = []\n",
    "        visited = set()\n",
    "        def build_topo(v):\n",
    "            if v not in visited:\n",
    "                visited.add(v)\n",
    "                for child in v._prev:\n",
    "                    build_topo(child)\n",
    "                topo.append(v)\n",
    "        build_topo(self)\n",
    "\n",
    "        self.grad = 1.0\n",
    "        for node in reversed(topo):\n",
    "            node._backward()"
   ]
  },
  {
   "cell_type": "code",
   "execution_count": 157,
   "metadata": {},
   "outputs": [
    {
     "data": {
      "text/plain": [
       "Value(data=3.0)"
      ]
     },
     "execution_count": 157,
     "metadata": {},
     "output_type": "execute_result"
    }
   ],
   "source": [
    "a = Value(2.0)\n",
    "b = Value(4.0)\n",
    "1 + a"
   ]
  },
  {
   "cell_type": "code",
   "execution_count": 147,
   "metadata": {},
   "outputs": [],
   "source": [
    "from graphviz import Digraph\n",
    "\n",
    "def trace(root):\n",
    "    # builds a set of all nodes and edges in a graph\n",
    "    nodes, edges = set(), set()\n",
    "    def build(v):\n",
    "        if v not in nodes:\n",
    "            nodes.add(v)\n",
    "            for child in v._prev:\n",
    "                edges.add((child, v))\n",
    "                build(child)\n",
    "    build(root)\n",
    "    return nodes, edges\n",
    "\n",
    "def draw_dot(root):\n",
    "    dot = Digraph(format='svg', graph_attr={'rankdir': 'LR'}) # LR = left to right\n",
    "\n",
    "    nodes, edges = trace(root)\n",
    "    for n in nodes:\n",
    "        uid = str(id(n))\n",
    "        # for any value in the graph, create a rectangular ('record') node for it\n",
    "        dot.node(name=uid, label=\"{ %s | data %.4f | grad %.4f}\" % (n.label, n.data, n.grad), shape='record')\n",
    "        if n._op:\n",
    "            # if this value is a result of some operation, create an op node for it\n",
    "            dot.node(name=uid + n._op, label=n._op)\n",
    "            # and connect this node to it\n",
    "            dot.edge(uid + n._op, uid)\n",
    "    \n",
    "    for n1, n2 in edges:\n",
    "        # connect n1 to the op node of n2\n",
    "        dot.edge(str(id(n1)), str(id(n2)) + n2._op)\n",
    "    \n",
    "    return dot"
   ]
  },
  {
   "cell_type": "code",
   "execution_count": 148,
   "metadata": {},
   "outputs": [],
   "source": [
    "# inputs x1, x2\n",
    "x1 = Value(2.0, label='x1')\n",
    "x2 = Value(0.0, label='x2')\n",
    "\n",
    "# weights w1, w2\n",
    "w1 = Value(-3.0, label='w1')\n",
    "w2 = Value(1.0, label='w2')\n",
    "\n",
    "# bias of the neuron\n",
    "b = Value(6.88123432394673279, label='b')\n",
    "\n",
    "# x1*w1 + x2*w2 + b\n",
    "x1w1 = x1*w1; x1w1.label = 'x1*w1'\n",
    "x2w2 = x2*w2; x2w2.label = 'x2*w2'\n",
    "x1w1x2w2 = x1w1 + x2w2; x1w1x2w2.label = 'x1w1 + x2w2'\n",
    "n = x1w1x2w2 + b; n.label = 'n'\n",
    "o = n.tanh(); o.label = 'o'\n",
    "o.backward()"
   ]
  },
  {
   "cell_type": "code",
   "execution_count": 149,
   "metadata": {},
   "outputs": [
    {
     "data": {
      "image/svg+xml": "<?xml version=\"1.0\" encoding=\"UTF-8\" standalone=\"no\"?>\n<!DOCTYPE svg PUBLIC \"-//W3C//DTD SVG 1.1//EN\"\n \"http://www.w3.org/Graphics/SVG/1.1/DTD/svg11.dtd\">\n<!-- Generated by graphviz version 8.0.5 (0)\n -->\n<!-- Pages: 1 -->\n<svg width=\"1553pt\" height=\"210pt\"\n viewBox=\"0.00 0.00 1553.00 210.00\" xmlns=\"http://www.w3.org/2000/svg\" xmlns:xlink=\"http://www.w3.org/1999/xlink\">\n<g id=\"graph0\" class=\"graph\" transform=\"scale(1 1) rotate(0) translate(4 206)\">\n<polygon fill=\"white\" stroke=\"none\" points=\"-4,4 -4,-206 1549,-206 1549,4 -4,4\"/>\n<!-- 5006220352 -->\n<g id=\"node1\" class=\"node\">\n<title>5006220352</title>\n<polygon fill=\"none\" stroke=\"black\" points=\"668.25,-82.5 668.25,-118.5 925.5,-118.5 925.5,-82.5 668.25,-82.5\"/>\n<text text-anchor=\"middle\" x=\"714.12\" y=\"-95.7\" font-family=\"Times,serif\" font-size=\"14.00\">x1w1 + x2w2</text>\n<polyline fill=\"none\" stroke=\"black\" points=\"760,-83 760,-118.5\"/>\n<text text-anchor=\"middle\" x=\"802.12\" y=\"-95.7\" font-family=\"Times,serif\" font-size=\"14.00\">data &#45;6.0000</text>\n<polyline fill=\"none\" stroke=\"black\" points=\"844.25,-83 844.25,-118.5\"/>\n<text text-anchor=\"middle\" x=\"884.88\" y=\"-95.7\" font-family=\"Times,serif\" font-size=\"14.00\">grad 0.5001</text>\n</g>\n<!-- 5006220400+ -->\n<g id=\"node4\" class=\"node\">\n<title>5006220400+</title>\n<ellipse fill=\"none\" stroke=\"black\" cx=\"988.5\" cy=\"-127.5\" rx=\"27\" ry=\"18\"/>\n<text text-anchor=\"middle\" x=\"988.5\" y=\"-122.45\" font-family=\"Times,serif\" font-size=\"14.00\">+</text>\n</g>\n<!-- 5006220352&#45;&gt;5006220400+ -->\n<g id=\"edge11\" class=\"edge\">\n<title>5006220352&#45;&gt;5006220400+</title>\n<path fill=\"none\" stroke=\"black\" d=\"M924.09,-118.47C933.64,-119.83 942.71,-121.12 950.84,-122.28\"/>\n<polygon fill=\"black\" stroke=\"black\" points=\"950.28,-125.88 960.68,-123.82 951.27,-118.95 950.28,-125.88\"/>\n</g>\n<!-- 5006220352+ -->\n<g id=\"node2\" class=\"node\">\n<title>5006220352+</title>\n<ellipse fill=\"none\" stroke=\"black\" cx=\"605.25\" cy=\"-100.5\" rx=\"27\" ry=\"18\"/>\n<text text-anchor=\"middle\" x=\"605.25\" y=\"-95.45\" font-family=\"Times,serif\" font-size=\"14.00\">+</text>\n</g>\n<!-- 5006220352+&#45;&gt;5006220352 -->\n<g id=\"edge1\" class=\"edge\">\n<title>5006220352+&#45;&gt;5006220352</title>\n<path fill=\"none\" stroke=\"black\" d=\"M632.62,-100.5C640.01,-100.5 648.59,-100.5 657.88,-100.5\"/>\n<polygon fill=\"black\" stroke=\"black\" points=\"657.64,-104 667.64,-100.5 657.64,-97 657.64,-104\"/>\n</g>\n<!-- 5006220400 -->\n<g id=\"node3\" class=\"node\">\n<title>5006220400</title>\n<polygon fill=\"none\" stroke=\"black\" points=\"1051.5,-109.5 1051.5,-145.5 1235.25,-145.5 1235.25,-109.5 1051.5,-109.5\"/>\n<text text-anchor=\"middle\" x=\"1062.88\" y=\"-122.7\" font-family=\"Times,serif\" font-size=\"14.00\">n</text>\n<polyline fill=\"none\" stroke=\"black\" points=\"1074.25,-110 1074.25,-145.5\"/>\n<text text-anchor=\"middle\" x=\"1114.12\" y=\"-122.7\" font-family=\"Times,serif\" font-size=\"14.00\">data 0.8812</text>\n<polyline fill=\"none\" stroke=\"black\" points=\"1154,-110 1154,-145.5\"/>\n<text text-anchor=\"middle\" x=\"1194.62\" y=\"-122.7\" font-family=\"Times,serif\" font-size=\"14.00\">grad 0.5001</text>\n</g>\n<!-- 5006221216tanh -->\n<g id=\"node14\" class=\"node\">\n<title>5006221216tanh</title>\n<ellipse fill=\"none\" stroke=\"black\" cx=\"1298.25\" cy=\"-127.5\" rx=\"27\" ry=\"18\"/>\n<text text-anchor=\"middle\" x=\"1298.25\" y=\"-122.45\" font-family=\"Times,serif\" font-size=\"14.00\">tanh</text>\n</g>\n<!-- 5006220400&#45;&gt;5006221216tanh -->\n<g id=\"edge14\" class=\"edge\">\n<title>5006220400&#45;&gt;5006221216tanh</title>\n<path fill=\"none\" stroke=\"black\" d=\"M1235.07,-127.5C1243.8,-127.5 1252.26,-127.5 1260,-127.5\"/>\n<polygon fill=\"black\" stroke=\"black\" points=\"1259.75,-131 1269.75,-127.5 1259.75,-124 1259.75,-131\"/>\n</g>\n<!-- 5006220400+&#45;&gt;5006220400 -->\n<g id=\"edge2\" class=\"edge\">\n<title>5006220400+&#45;&gt;5006220400</title>\n<path fill=\"none\" stroke=\"black\" d=\"M1015.78,-127.5C1023.2,-127.5 1031.76,-127.5 1040.85,-127.5\"/>\n<polygon fill=\"black\" stroke=\"black\" points=\"1040.72,-131 1050.72,-127.5 1040.72,-124 1040.72,-131\"/>\n</g>\n<!-- 5006218864 -->\n<g id=\"node5\" class=\"node\">\n<title>5006218864</title>\n<polygon fill=\"none\" stroke=\"black\" points=\"0,-55.5 0,-91.5 198,-91.5 198,-55.5 0,-55.5\"/>\n<text text-anchor=\"middle\" x=\"16.25\" y=\"-68.7\" font-family=\"Times,serif\" font-size=\"14.00\">w1</text>\n<polyline fill=\"none\" stroke=\"black\" points=\"32.5,-56 32.5,-91.5\"/>\n<text text-anchor=\"middle\" x=\"74.62\" y=\"-68.7\" font-family=\"Times,serif\" font-size=\"14.00\">data &#45;3.0000</text>\n<polyline fill=\"none\" stroke=\"black\" points=\"116.75,-56 116.75,-91.5\"/>\n<text text-anchor=\"middle\" x=\"157.38\" y=\"-68.7\" font-family=\"Times,serif\" font-size=\"14.00\">grad 1.0002</text>\n</g>\n<!-- 5006218096* -->\n<g id=\"node12\" class=\"node\">\n<title>5006218096*</title>\n<ellipse fill=\"none\" stroke=\"black\" cx=\"261\" cy=\"-73.5\" rx=\"27\" ry=\"18\"/>\n<text text-anchor=\"middle\" x=\"261\" y=\"-68.45\" font-family=\"Times,serif\" font-size=\"14.00\">*</text>\n</g>\n<!-- 5006218864&#45;&gt;5006218096* -->\n<g id=\"edge8\" class=\"edge\">\n<title>5006218864&#45;&gt;5006218096*</title>\n<path fill=\"none\" stroke=\"black\" d=\"M197.68,-73.5C206.51,-73.5 215.04,-73.5 222.8,-73.5\"/>\n<polygon fill=\"black\" stroke=\"black\" points=\"222.58,-77 232.58,-73.5 222.58,-70 222.58,-77\"/>\n</g>\n<!-- 5006219968 -->\n<g id=\"node6\" class=\"node\">\n<title>5006219968</title>\n<polygon fill=\"none\" stroke=\"black\" points=\"3.75,-165.5 3.75,-201.5 194.25,-201.5 194.25,-165.5 3.75,-165.5\"/>\n<text text-anchor=\"middle\" x=\"18.5\" y=\"-178.7\" font-family=\"Times,serif\" font-size=\"14.00\">x2</text>\n<polyline fill=\"none\" stroke=\"black\" points=\"33.25,-166 33.25,-201.5\"/>\n<text text-anchor=\"middle\" x=\"73.12\" y=\"-178.7\" font-family=\"Times,serif\" font-size=\"14.00\">data 0.0000</text>\n<polyline fill=\"none\" stroke=\"black\" points=\"113,-166 113,-201.5\"/>\n<text text-anchor=\"middle\" x=\"153.62\" y=\"-178.7\" font-family=\"Times,serif\" font-size=\"14.00\">grad 0.5001</text>\n</g>\n<!-- 5006219008* -->\n<g id=\"node8\" class=\"node\">\n<title>5006219008*</title>\n<ellipse fill=\"none\" stroke=\"black\" cx=\"261\" cy=\"-128.5\" rx=\"27\" ry=\"18\"/>\n<text text-anchor=\"middle\" x=\"261\" y=\"-123.45\" font-family=\"Times,serif\" font-size=\"14.00\">*</text>\n</g>\n<!-- 5006219968&#45;&gt;5006219008* -->\n<g id=\"edge13\" class=\"edge\">\n<title>5006219968&#45;&gt;5006219008*</title>\n<path fill=\"none\" stroke=\"black\" d=\"M170.28,-165.56C179.67,-162.75 189.12,-159.71 198,-156.5 208.31,-152.78 219.28,-148.08 229.1,-143.59\"/>\n<polygon fill=\"black\" stroke=\"black\" points=\"230.24,-146.46 237.82,-139.05 227.28,-140.11 230.24,-146.46\"/>\n</g>\n<!-- 5006219008 -->\n<g id=\"node7\" class=\"node\">\n<title>5006219008</title>\n<polygon fill=\"none\" stroke=\"black\" points=\"326.25,-110.5 326.25,-146.5 540,-146.5 540,-110.5 326.25,-110.5\"/>\n<text text-anchor=\"middle\" x=\"352.62\" y=\"-123.7\" font-family=\"Times,serif\" font-size=\"14.00\">x2*w2</text>\n<polyline fill=\"none\" stroke=\"black\" points=\"379,-111 379,-146.5\"/>\n<text text-anchor=\"middle\" x=\"418.88\" y=\"-123.7\" font-family=\"Times,serif\" font-size=\"14.00\">data 0.0000</text>\n<polyline fill=\"none\" stroke=\"black\" points=\"458.75,-111 458.75,-146.5\"/>\n<text text-anchor=\"middle\" x=\"499.38\" y=\"-123.7\" font-family=\"Times,serif\" font-size=\"14.00\">grad 0.5001</text>\n</g>\n<!-- 5006219008&#45;&gt;5006220352+ -->\n<g id=\"edge6\" class=\"edge\">\n<title>5006219008&#45;&gt;5006220352+</title>\n<path fill=\"none\" stroke=\"black\" d=\"M539.93,-111.09C549.89,-109.45 559.45,-107.87 568.01,-106.46\"/>\n<polygon fill=\"black\" stroke=\"black\" points=\"568.34,-109.79 577.64,-104.72 567.2,-102.89 568.34,-109.79\"/>\n</g>\n<!-- 5006219008*&#45;&gt;5006219008 -->\n<g id=\"edge3\" class=\"edge\">\n<title>5006219008*&#45;&gt;5006219008</title>\n<path fill=\"none\" stroke=\"black\" d=\"M288.21,-128.5C296.23,-128.5 305.63,-128.5 315.71,-128.5\"/>\n<polygon fill=\"black\" stroke=\"black\" points=\"315.43,-132 325.43,-128.5 315.43,-125 315.43,-132\"/>\n</g>\n<!-- 5006219536 -->\n<g id=\"node9\" class=\"node\">\n<title>5006219536</title>\n<polygon fill=\"none\" stroke=\"black\" points=\"2.25,-110.5 2.25,-146.5 195.75,-146.5 195.75,-110.5 2.25,-110.5\"/>\n<text text-anchor=\"middle\" x=\"18.5\" y=\"-123.7\" font-family=\"Times,serif\" font-size=\"14.00\">w2</text>\n<polyline fill=\"none\" stroke=\"black\" points=\"34.75,-111 34.75,-146.5\"/>\n<text text-anchor=\"middle\" x=\"74.62\" y=\"-123.7\" font-family=\"Times,serif\" font-size=\"14.00\">data 1.0000</text>\n<polyline fill=\"none\" stroke=\"black\" points=\"114.5,-111 114.5,-146.5\"/>\n<text text-anchor=\"middle\" x=\"155.12\" y=\"-123.7\" font-family=\"Times,serif\" font-size=\"14.00\">grad 0.0000</text>\n</g>\n<!-- 5006219536&#45;&gt;5006219008* -->\n<g id=\"edge10\" class=\"edge\">\n<title>5006219536&#45;&gt;5006219008*</title>\n<path fill=\"none\" stroke=\"black\" d=\"M195.38,-128.5C205.05,-128.5 214.4,-128.5 222.84,-128.5\"/>\n<polygon fill=\"black\" stroke=\"black\" points=\"222.75,-132 232.75,-128.5 222.75,-125 222.75,-132\"/>\n</g>\n<!-- 5006219104 -->\n<g id=\"node10\" class=\"node\">\n<title>5006219104</title>\n<polygon fill=\"none\" stroke=\"black\" points=\"705,-137.5 705,-173.5 888.75,-173.5 888.75,-137.5 705,-137.5\"/>\n<text text-anchor=\"middle\" x=\"716.38\" y=\"-150.7\" font-family=\"Times,serif\" font-size=\"14.00\">b</text>\n<polyline fill=\"none\" stroke=\"black\" points=\"727.75,-138 727.75,-173.5\"/>\n<text text-anchor=\"middle\" x=\"767.62\" y=\"-150.7\" font-family=\"Times,serif\" font-size=\"14.00\">data 6.8812</text>\n<polyline fill=\"none\" stroke=\"black\" points=\"807.5,-138 807.5,-173.5\"/>\n<text text-anchor=\"middle\" x=\"848.12\" y=\"-150.7\" font-family=\"Times,serif\" font-size=\"14.00\">grad 0.5001</text>\n</g>\n<!-- 5006219104&#45;&gt;5006220400+ -->\n<g id=\"edge9\" class=\"edge\">\n<title>5006219104&#45;&gt;5006220400+</title>\n<path fill=\"none\" stroke=\"black\" d=\"M888.52,-142.12C910.65,-138.85 933.09,-135.53 950.99,-132.89\"/>\n<polygon fill=\"black\" stroke=\"black\" points=\"951.4,-136.22 960.78,-131.3 950.38,-129.3 951.4,-136.22\"/>\n</g>\n<!-- 5006218096 -->\n<g id=\"node11\" class=\"node\">\n<title>5006218096</title>\n<polygon fill=\"none\" stroke=\"black\" points=\"324,-55.5 324,-91.5 542.25,-91.5 542.25,-55.5 324,-55.5\"/>\n<text text-anchor=\"middle\" x=\"350.38\" y=\"-68.7\" font-family=\"Times,serif\" font-size=\"14.00\">x1*w1</text>\n<polyline fill=\"none\" stroke=\"black\" points=\"376.75,-56 376.75,-91.5\"/>\n<text text-anchor=\"middle\" x=\"418.88\" y=\"-68.7\" font-family=\"Times,serif\" font-size=\"14.00\">data &#45;6.0000</text>\n<polyline fill=\"none\" stroke=\"black\" points=\"461,-56 461,-91.5\"/>\n<text text-anchor=\"middle\" x=\"501.62\" y=\"-68.7\" font-family=\"Times,serif\" font-size=\"14.00\">grad 0.5001</text>\n</g>\n<!-- 5006218096&#45;&gt;5006220352+ -->\n<g id=\"edge7\" class=\"edge\">\n<title>5006218096&#45;&gt;5006220352+</title>\n<path fill=\"none\" stroke=\"black\" d=\"M541.87,-90.6C551.1,-92.06 559.95,-93.47 567.93,-94.74\"/>\n<polygon fill=\"black\" stroke=\"black\" points=\"567.17,-98.32 577.59,-96.43 568.27,-91.4 567.17,-98.32\"/>\n</g>\n<!-- 5006218096*&#45;&gt;5006218096 -->\n<g id=\"edge4\" class=\"edge\">\n<title>5006218096*&#45;&gt;5006218096</title>\n<path fill=\"none\" stroke=\"black\" d=\"M288.21,-73.5C295.58,-73.5 304.1,-73.5 313.25,-73.5\"/>\n<polygon fill=\"black\" stroke=\"black\" points=\"313.24,-77 323.24,-73.5 313.24,-70 313.24,-77\"/>\n</g>\n<!-- 5006221216 -->\n<g id=\"node13\" class=\"node\">\n<title>5006221216</title>\n<polygon fill=\"none\" stroke=\"black\" points=\"1361.25,-109.5 1361.25,-145.5 1545,-145.5 1545,-109.5 1361.25,-109.5\"/>\n<text text-anchor=\"middle\" x=\"1372.62\" y=\"-122.7\" font-family=\"Times,serif\" font-size=\"14.00\">o</text>\n<polyline fill=\"none\" stroke=\"black\" points=\"1384,-110 1384,-145.5\"/>\n<text text-anchor=\"middle\" x=\"1423.88\" y=\"-122.7\" font-family=\"Times,serif\" font-size=\"14.00\">data 0.7070</text>\n<polyline fill=\"none\" stroke=\"black\" points=\"1463.75,-110 1463.75,-145.5\"/>\n<text text-anchor=\"middle\" x=\"1504.38\" y=\"-122.7\" font-family=\"Times,serif\" font-size=\"14.00\">grad 1.0000</text>\n</g>\n<!-- 5006221216tanh&#45;&gt;5006221216 -->\n<g id=\"edge5\" class=\"edge\">\n<title>5006221216tanh&#45;&gt;5006221216</title>\n<path fill=\"none\" stroke=\"black\" d=\"M1325.53,-127.5C1332.95,-127.5 1341.51,-127.5 1350.6,-127.5\"/>\n<polygon fill=\"black\" stroke=\"black\" points=\"1350.47,-131 1360.47,-127.5 1350.47,-124 1350.47,-131\"/>\n</g>\n<!-- 5006220208 -->\n<g id=\"node15\" class=\"node\">\n<title>5006220208</title>\n<polygon fill=\"none\" stroke=\"black\" points=\"1.5,-0.5 1.5,-36.5 196.5,-36.5 196.5,-0.5 1.5,-0.5\"/>\n<text text-anchor=\"middle\" x=\"16.25\" y=\"-13.7\" font-family=\"Times,serif\" font-size=\"14.00\">x1</text>\n<polyline fill=\"none\" stroke=\"black\" points=\"31,-1 31,-36.5\"/>\n<text text-anchor=\"middle\" x=\"70.88\" y=\"-13.7\" font-family=\"Times,serif\" font-size=\"14.00\">data 2.0000</text>\n<polyline fill=\"none\" stroke=\"black\" points=\"110.75,-1 110.75,-36.5\"/>\n<text text-anchor=\"middle\" x=\"153.62\" y=\"-13.7\" font-family=\"Times,serif\" font-size=\"14.00\">grad &#45;1.5003</text>\n</g>\n<!-- 5006220208&#45;&gt;5006218096* -->\n<g id=\"edge12\" class=\"edge\">\n<title>5006220208&#45;&gt;5006218096*</title>\n<path fill=\"none\" stroke=\"black\" d=\"M167.33,-36.46C177.67,-39.59 188.17,-42.97 198,-46.5 208.06,-50.11 218.81,-54.57 228.49,-58.82\"/>\n<polygon fill=\"black\" stroke=\"black\" points=\"226.92,-62.4 237.48,-63.29 229.78,-56.01 226.92,-62.4\"/>\n</g>\n</g>\n</svg>\n",
      "text/plain": [
       "<graphviz.graphs.Digraph at 0x12965e3d0>"
      ]
     },
     "execution_count": 149,
     "metadata": {},
     "output_type": "execute_result"
    }
   ],
   "source": [
    "draw_dot(o)"
   ]
  },
  {
   "cell_type": "code",
   "execution_count": 150,
   "metadata": {},
   "outputs": [],
   "source": [
    "# inputs x1, x2\n",
    "x1 = Value(2.0, label='x1')\n",
    "x2 = Value(0.0, label='x2')\n",
    "\n",
    "# weights w1, w2\n",
    "w1 = Value(-3.0, label='w1')\n",
    "w2 = Value(1.0, label='w2')\n",
    "\n",
    "# bias of the neuron\n",
    "b = Value(6.88123432394673279, label='b')\n",
    "\n",
    "# x1*w1 + x2*w2 + b\n",
    "x1w1 = x1*w1; x1w1.label = 'x1*w1'\n",
    "x2w2 = x2*w2; x2w2.label = 'x2*w2'\n",
    "x1w1x2w2 = x1w1 + x2w2; x1w1x2w2.label = 'x1w1 + x2w2'\n",
    "n = x1w1x2w2 + b; n.label = 'n'\n",
    "# ----\n",
    "e = (2*n).exp()\n",
    "o = (e - 1) / (e + 1)\n",
    "# ----\n",
    "o.label = 'o'\n",
    "o.backward()"
   ]
  },
  {
   "cell_type": "code",
   "execution_count": 151,
   "metadata": {},
   "outputs": [
    {
     "data": {
      "image/svg+xml": "<?xml version=\"1.0\" encoding=\"UTF-8\" standalone=\"no\"?>\n<!DOCTYPE svg PUBLIC \"-//W3C//DTD SVG 1.1//EN\"\n \"http://www.w3.org/Graphics/SVG/1.1/DTD/svg11.dtd\">\n<!-- Generated by graphviz version 8.0.5 (0)\n -->\n<!-- Pages: 1 -->\n<svg width=\"2916pt\" height=\"236pt\"\n viewBox=\"0.00 0.00 2915.75 236.00\" xmlns=\"http://www.w3.org/2000/svg\" xmlns:xlink=\"http://www.w3.org/1999/xlink\">\n<g id=\"graph0\" class=\"graph\" transform=\"scale(1 1) rotate(0) translate(4 232)\">\n<polygon fill=\"white\" stroke=\"none\" points=\"-4,4 -4,-232 2911.75,-232 2911.75,4 -4,4\"/>\n<!-- 5005464096 -->\n<g id=\"node1\" class=\"node\">\n<title>5005464096</title>\n<polygon fill=\"none\" stroke=\"black\" points=\"324,-55.5 324,-91.5 542.25,-91.5 542.25,-55.5 324,-55.5\"/>\n<text text-anchor=\"middle\" x=\"350.38\" y=\"-68.7\" font-family=\"Times,serif\" font-size=\"14.00\">x1*w1</text>\n<polyline fill=\"none\" stroke=\"black\" points=\"376.75,-56 376.75,-91.5\"/>\n<text text-anchor=\"middle\" x=\"418.88\" y=\"-68.7\" font-family=\"Times,serif\" font-size=\"14.00\">data &#45;6.0000</text>\n<polyline fill=\"none\" stroke=\"black\" points=\"461,-56 461,-91.5\"/>\n<text text-anchor=\"middle\" x=\"501.62\" y=\"-68.7\" font-family=\"Times,serif\" font-size=\"14.00\">grad 0.5001</text>\n</g>\n<!-- 5006684992+ -->\n<g id=\"node20\" class=\"node\">\n<title>5006684992+</title>\n<ellipse fill=\"none\" stroke=\"black\" cx=\"605.25\" cy=\"-100.5\" rx=\"27\" ry=\"18\"/>\n<text text-anchor=\"middle\" x=\"605.25\" y=\"-95.45\" font-family=\"Times,serif\" font-size=\"14.00\">+</text>\n</g>\n<!-- 5005464096&#45;&gt;5006684992+ -->\n<g id=\"edge25\" class=\"edge\">\n<title>5005464096&#45;&gt;5006684992+</title>\n<path fill=\"none\" stroke=\"black\" d=\"M541.87,-90.6C551.1,-92.06 559.95,-93.47 567.93,-94.74\"/>\n<polygon fill=\"black\" stroke=\"black\" points=\"567.17,-98.32 577.59,-96.43 568.27,-91.4 567.17,-98.32\"/>\n</g>\n<!-- 5005464096* -->\n<g id=\"node2\" class=\"node\">\n<title>5005464096*</title>\n<ellipse fill=\"none\" stroke=\"black\" cx=\"261\" cy=\"-73.5\" rx=\"27\" ry=\"18\"/>\n<text text-anchor=\"middle\" x=\"261\" y=\"-68.45\" font-family=\"Times,serif\" font-size=\"14.00\">*</text>\n</g>\n<!-- 5005464096*&#45;&gt;5005464096 -->\n<g id=\"edge1\" class=\"edge\">\n<title>5005464096*&#45;&gt;5005464096</title>\n<path fill=\"none\" stroke=\"black\" d=\"M288.21,-73.5C295.58,-73.5 304.1,-73.5 313.25,-73.5\"/>\n<polygon fill=\"black\" stroke=\"black\" points=\"313.24,-77 323.24,-73.5 313.24,-70 313.24,-77\"/>\n</g>\n<!-- 5006686864 -->\n<g id=\"node3\" class=\"node\">\n<title>5006686864</title>\n<polygon fill=\"none\" stroke=\"black\" points=\"2417.25,-112.5 2417.25,-148.5 2598,-148.5 2598,-112.5 2417.25,-112.5\"/>\n<text text-anchor=\"middle\" x=\"2427.12\" y=\"-125.7\" font-family=\"Times,serif\" font-size=\"14.00\"> </text>\n<polyline fill=\"none\" stroke=\"black\" points=\"2437,-113 2437,-148.5\"/>\n<text text-anchor=\"middle\" x=\"2476.88\" y=\"-125.7\" font-family=\"Times,serif\" font-size=\"14.00\">data 0.1465</text>\n<polyline fill=\"none\" stroke=\"black\" points=\"2516.75,-113 2516.75,-148.5\"/>\n<text text-anchor=\"middle\" x=\"2557.38\" y=\"-125.7\" font-family=\"Times,serif\" font-size=\"14.00\">grad 4.8268</text>\n</g>\n<!-- 5006685520* -->\n<g id=\"node22\" class=\"node\">\n<title>5006685520*</title>\n<ellipse fill=\"none\" stroke=\"black\" cx=\"2661\" cy=\"-153.5\" rx=\"27\" ry=\"18\"/>\n<text text-anchor=\"middle\" x=\"2661\" y=\"-148.45\" font-family=\"Times,serif\" font-size=\"14.00\">*</text>\n</g>\n<!-- 5006686864&#45;&gt;5006685520* -->\n<g id=\"edge11\" class=\"edge\">\n<title>5006686864&#45;&gt;5006685520*</title>\n<path fill=\"none\" stroke=\"black\" d=\"M2597.99,-144.08C2606.85,-145.42 2615.45,-146.73 2623.29,-147.92\"/>\n<polygon fill=\"black\" stroke=\"black\" points=\"2622.75,-151.53 2633.16,-149.57 2623.8,-144.61 2622.75,-151.53\"/>\n</g>\n<!-- 5006686864**&#45;1 -->\n<g id=\"node4\" class=\"node\">\n<title>5006686864**&#45;1</title>\n<ellipse fill=\"none\" stroke=\"black\" cx=\"2290.88\" cy=\"-126.5\" rx=\"27.81\" ry=\"18\"/>\n<text text-anchor=\"middle\" x=\"2290.88\" y=\"-121.45\" font-family=\"Times,serif\" font-size=\"14.00\">**&#45;1</text>\n</g>\n<!-- 5006686864**&#45;1&#45;&gt;5006686864 -->\n<g id=\"edge2\" class=\"edge\">\n<title>5006686864**&#45;1&#45;&gt;5006686864</title>\n<path fill=\"none\" stroke=\"black\" d=\"M2319.07,-127.01C2341.38,-127.42 2374.42,-128.04 2406.57,-128.64\"/>\n<polygon fill=\"black\" stroke=\"black\" points=\"2406.36,-132.15 2416.43,-128.84 2406.49,-125.15 2406.36,-132.15\"/>\n</g>\n<!-- 5006684848 -->\n<g id=\"node5\" class=\"node\">\n<title>5006684848</title>\n<polygon fill=\"none\" stroke=\"black\" points=\"1361.25,-136.5 1361.25,-172.5 1542,-172.5 1542,-136.5 1361.25,-136.5\"/>\n<text text-anchor=\"middle\" x=\"1371.12\" y=\"-149.7\" font-family=\"Times,serif\" font-size=\"14.00\"> </text>\n<polyline fill=\"none\" stroke=\"black\" points=\"1381,-137 1381,-172.5\"/>\n<text text-anchor=\"middle\" x=\"1420.88\" y=\"-149.7\" font-family=\"Times,serif\" font-size=\"14.00\">data 1.7625</text>\n<polyline fill=\"none\" stroke=\"black\" points=\"1460.75,-137 1460.75,-172.5\"/>\n<text text-anchor=\"middle\" x=\"1501.38\" y=\"-149.7\" font-family=\"Times,serif\" font-size=\"14.00\">grad 0.2500</text>\n</g>\n<!-- 5006686000exp -->\n<g id=\"node18\" class=\"node\">\n<title>5006686000exp</title>\n<ellipse fill=\"none\" stroke=\"black\" cx=\"1605\" cy=\"-154.5\" rx=\"27\" ry=\"18\"/>\n<text text-anchor=\"middle\" x=\"1605\" y=\"-149.45\" font-family=\"Times,serif\" font-size=\"14.00\">exp</text>\n</g>\n<!-- 5006684848&#45;&gt;5006686000exp -->\n<g id=\"edge26\" class=\"edge\">\n<title>5006684848&#45;&gt;5006686000exp</title>\n<path fill=\"none\" stroke=\"black\" d=\"M1541.99,-154.5C1550.58,-154.5 1558.92,-154.5 1566.56,-154.5\"/>\n<polygon fill=\"black\" stroke=\"black\" points=\"1566.55,-158 1576.55,-154.5 1566.55,-151 1566.55,-158\"/>\n</g>\n<!-- 5006684848* -->\n<g id=\"node6\" class=\"node\">\n<title>5006684848*</title>\n<ellipse fill=\"none\" stroke=\"black\" cx=\"1298.25\" cy=\"-154.5\" rx=\"27\" ry=\"18\"/>\n<text text-anchor=\"middle\" x=\"1298.25\" y=\"-149.45\" font-family=\"Times,serif\" font-size=\"14.00\">*</text>\n</g>\n<!-- 5006684848*&#45;&gt;5006684848 -->\n<g id=\"edge3\" class=\"edge\">\n<title>5006684848*&#45;&gt;5006684848</title>\n<path fill=\"none\" stroke=\"black\" d=\"M1325.62,-154.5C1333.05,-154.5 1341.6,-154.5 1350.67,-154.5\"/>\n<polygon fill=\"black\" stroke=\"black\" points=\"1350.52,-158 1360.52,-154.5 1350.52,-151 1350.52,-158\"/>\n</g>\n<!-- 5005917872 -->\n<g id=\"node7\" class=\"node\">\n<title>5005917872</title>\n<polygon fill=\"none\" stroke=\"black\" points=\"705,-137.5 705,-173.5 888.75,-173.5 888.75,-137.5 705,-137.5\"/>\n<text text-anchor=\"middle\" x=\"716.38\" y=\"-150.7\" font-family=\"Times,serif\" font-size=\"14.00\">b</text>\n<polyline fill=\"none\" stroke=\"black\" points=\"727.75,-138 727.75,-173.5\"/>\n<text text-anchor=\"middle\" x=\"767.62\" y=\"-150.7\" font-family=\"Times,serif\" font-size=\"14.00\">data 6.8812</text>\n<polyline fill=\"none\" stroke=\"black\" points=\"807.5,-138 807.5,-173.5\"/>\n<text text-anchor=\"middle\" x=\"848.12\" y=\"-150.7\" font-family=\"Times,serif\" font-size=\"14.00\">grad 0.5001</text>\n</g>\n<!-- 5006684944+ -->\n<g id=\"node15\" class=\"node\">\n<title>5006684944+</title>\n<ellipse fill=\"none\" stroke=\"black\" cx=\"988.5\" cy=\"-127.5\" rx=\"27\" ry=\"18\"/>\n<text text-anchor=\"middle\" x=\"988.5\" y=\"-122.45\" font-family=\"Times,serif\" font-size=\"14.00\">+</text>\n</g>\n<!-- 5005917872&#45;&gt;5006684944+ -->\n<g id=\"edge12\" class=\"edge\">\n<title>5005917872&#45;&gt;5006684944+</title>\n<path fill=\"none\" stroke=\"black\" d=\"M888.52,-142.12C910.65,-138.85 933.09,-135.53 950.99,-132.89\"/>\n<polygon fill=\"black\" stroke=\"black\" points=\"951.4,-136.22 960.78,-131.3 950.38,-129.3 951.4,-136.22\"/>\n</g>\n<!-- 5006684368 -->\n<g id=\"node8\" class=\"node\">\n<title>5006684368</title>\n<polygon fill=\"none\" stroke=\"black\" points=\"1979.25,-108.5 1979.25,-144.5 2164.5,-144.5 2164.5,-108.5 1979.25,-108.5\"/>\n<text text-anchor=\"middle\" x=\"1989.12\" y=\"-121.7\" font-family=\"Times,serif\" font-size=\"14.00\"> </text>\n<polyline fill=\"none\" stroke=\"black\" points=\"1999,-109 1999,-144.5\"/>\n<text text-anchor=\"middle\" x=\"2038.88\" y=\"-121.7\" font-family=\"Times,serif\" font-size=\"14.00\">data 6.8268</text>\n<polyline fill=\"none\" stroke=\"black\" points=\"2078.75,-109 2078.75,-144.5\"/>\n<text text-anchor=\"middle\" x=\"2121.62\" y=\"-121.7\" font-family=\"Times,serif\" font-size=\"14.00\">grad &#45;0.1036</text>\n</g>\n<!-- 5006684368&#45;&gt;5006686864**&#45;1 -->\n<g id=\"edge13\" class=\"edge\">\n<title>5006684368&#45;&gt;5006686864**&#45;1</title>\n<path fill=\"none\" stroke=\"black\" d=\"M2164.27,-126.5C2195.07,-126.5 2227.76,-126.5 2252.06,-126.5\"/>\n<polygon fill=\"black\" stroke=\"black\" points=\"2251.94,-130 2261.94,-126.5 2251.94,-123 2251.94,-130\"/>\n</g>\n<!-- 5006684368+ -->\n<g id=\"node9\" class=\"node\">\n<title>5006684368+</title>\n<ellipse fill=\"none\" stroke=\"black\" cx=\"1916.25\" cy=\"-126.5\" rx=\"27\" ry=\"18\"/>\n<text text-anchor=\"middle\" x=\"1916.25\" y=\"-121.45\" font-family=\"Times,serif\" font-size=\"14.00\">+</text>\n</g>\n<!-- 5006684368+&#45;&gt;5006684368 -->\n<g id=\"edge4\" class=\"edge\">\n<title>5006684368+&#45;&gt;5006684368</title>\n<path fill=\"none\" stroke=\"black\" d=\"M1943.66,-126.5C1951.06,-126.5 1959.57,-126.5 1968.62,-126.5\"/>\n<polygon fill=\"black\" stroke=\"black\" points=\"1968.45,-130 1978.45,-126.5 1968.45,-123 1968.45,-130\"/>\n</g>\n<!-- 5006685904 -->\n<g id=\"node10\" class=\"node\">\n<title>5006685904</title>\n<polygon fill=\"none\" stroke=\"black\" points=\"1053,-164.5 1053,-200.5 1233.75,-200.5 1233.75,-164.5 1053,-164.5\"/>\n<text text-anchor=\"middle\" x=\"1062.88\" y=\"-177.7\" font-family=\"Times,serif\" font-size=\"14.00\"> </text>\n<polyline fill=\"none\" stroke=\"black\" points=\"1072.75,-165 1072.75,-200.5\"/>\n<text text-anchor=\"middle\" x=\"1112.62\" y=\"-177.7\" font-family=\"Times,serif\" font-size=\"14.00\">data 2.0000</text>\n<polyline fill=\"none\" stroke=\"black\" points=\"1152.5,-165 1152.5,-200.5\"/>\n<text text-anchor=\"middle\" x=\"1193.12\" y=\"-177.7\" font-family=\"Times,serif\" font-size=\"14.00\">grad 0.2204</text>\n</g>\n<!-- 5006685904&#45;&gt;5006684848* -->\n<g id=\"edge16\" class=\"edge\">\n<title>5006685904&#45;&gt;5006684848*</title>\n<path fill=\"none\" stroke=\"black\" d=\"M1233.75,-166.13C1243.27,-164.39 1252.52,-162.69 1260.87,-161.16\"/>\n<polygon fill=\"black\" stroke=\"black\" points=\"1261.45,-164.43 1270.66,-159.19 1260.19,-157.55 1261.45,-164.43\"/>\n</g>\n<!-- 5005915376 -->\n<g id=\"node11\" class=\"node\">\n<title>5005915376</title>\n<polygon fill=\"none\" stroke=\"black\" points=\"2.25,-165.5 2.25,-201.5 195.75,-201.5 195.75,-165.5 2.25,-165.5\"/>\n<text text-anchor=\"middle\" x=\"18.5\" y=\"-178.7\" font-family=\"Times,serif\" font-size=\"14.00\">w2</text>\n<polyline fill=\"none\" stroke=\"black\" points=\"34.75,-166 34.75,-201.5\"/>\n<text text-anchor=\"middle\" x=\"74.62\" y=\"-178.7\" font-family=\"Times,serif\" font-size=\"14.00\">data 1.0000</text>\n<polyline fill=\"none\" stroke=\"black\" points=\"114.5,-166 114.5,-201.5\"/>\n<text text-anchor=\"middle\" x=\"155.12\" y=\"-178.7\" font-family=\"Times,serif\" font-size=\"14.00\">grad 0.0000</text>\n</g>\n<!-- 5006688160* -->\n<g id=\"node27\" class=\"node\">\n<title>5006688160*</title>\n<ellipse fill=\"none\" stroke=\"black\" cx=\"261\" cy=\"-128.5\" rx=\"27\" ry=\"18\"/>\n<text text-anchor=\"middle\" x=\"261\" y=\"-123.45\" font-family=\"Times,serif\" font-size=\"14.00\">*</text>\n</g>\n<!-- 5005915376&#45;&gt;5006688160* -->\n<g id=\"edge22\" class=\"edge\">\n<title>5005915376&#45;&gt;5006688160*</title>\n<path fill=\"none\" stroke=\"black\" d=\"M170.28,-165.56C179.67,-162.75 189.12,-159.71 198,-156.5 208.31,-152.78 219.28,-148.08 229.1,-143.59\"/>\n<polygon fill=\"black\" stroke=\"black\" points=\"230.24,-146.46 237.82,-139.05 227.28,-140.11 230.24,-146.46\"/>\n</g>\n<!-- 5006684896 -->\n<g id=\"node12\" class=\"node\">\n<title>5006684896</title>\n<polygon fill=\"none\" stroke=\"black\" points=\"2200.5,-163.5 2200.5,-199.5 2381.25,-199.5 2381.25,-163.5 2200.5,-163.5\"/>\n<text text-anchor=\"middle\" x=\"2210.38\" y=\"-176.7\" font-family=\"Times,serif\" font-size=\"14.00\"> </text>\n<polyline fill=\"none\" stroke=\"black\" points=\"2220.25,-164 2220.25,-199.5\"/>\n<text text-anchor=\"middle\" x=\"2260.12\" y=\"-176.7\" font-family=\"Times,serif\" font-size=\"14.00\">data 4.8268</text>\n<polyline fill=\"none\" stroke=\"black\" points=\"2300,-164 2300,-199.5\"/>\n<text text-anchor=\"middle\" x=\"2340.62\" y=\"-176.7\" font-family=\"Times,serif\" font-size=\"14.00\">grad 0.1465</text>\n</g>\n<!-- 5006684896&#45;&gt;5006685520* -->\n<g id=\"edge19\" class=\"edge\">\n<title>5006684896&#45;&gt;5006685520*</title>\n<path fill=\"none\" stroke=\"black\" d=\"M2380.96,-174.94C2442.05,-170.4 2524.94,-164.19 2598,-158.5 2606.07,-157.87 2614.73,-157.18 2622.94,-156.52\"/>\n<polygon fill=\"black\" stroke=\"black\" points=\"2623.07,-159.94 2632.76,-155.65 2622.51,-152.96 2623.07,-159.94\"/>\n</g>\n<!-- 5006684896+ -->\n<g id=\"node13\" class=\"node\">\n<title>5006684896+</title>\n<ellipse fill=\"none\" stroke=\"black\" cx=\"1916.25\" cy=\"-181.5\" rx=\"27\" ry=\"18\"/>\n<text text-anchor=\"middle\" x=\"1916.25\" y=\"-176.45\" font-family=\"Times,serif\" font-size=\"14.00\">+</text>\n</g>\n<!-- 5006684896+&#45;&gt;5006684896 -->\n<g id=\"edge5\" class=\"edge\">\n<title>5006684896+&#45;&gt;5006684896</title>\n<path fill=\"none\" stroke=\"black\" d=\"M1943.75,-181.5C1994.32,-181.5 2106.96,-181.5 2190.08,-181.5\"/>\n<polygon fill=\"black\" stroke=\"black\" points=\"2189.83,-185 2199.83,-181.5 2189.83,-178 2189.83,-185\"/>\n</g>\n<!-- 5006684944 -->\n<g id=\"node14\" class=\"node\">\n<title>5006684944</title>\n<polygon fill=\"none\" stroke=\"black\" points=\"1051.5,-109.5 1051.5,-145.5 1235.25,-145.5 1235.25,-109.5 1051.5,-109.5\"/>\n<text text-anchor=\"middle\" x=\"1062.88\" y=\"-122.7\" font-family=\"Times,serif\" font-size=\"14.00\">n</text>\n<polyline fill=\"none\" stroke=\"black\" points=\"1074.25,-110 1074.25,-145.5\"/>\n<text text-anchor=\"middle\" x=\"1114.12\" y=\"-122.7\" font-family=\"Times,serif\" font-size=\"14.00\">data 0.8812</text>\n<polyline fill=\"none\" stroke=\"black\" points=\"1154,-110 1154,-145.5\"/>\n<text text-anchor=\"middle\" x=\"1194.62\" y=\"-122.7\" font-family=\"Times,serif\" font-size=\"14.00\">grad 0.5001</text>\n</g>\n<!-- 5006684944&#45;&gt;5006684848* -->\n<g id=\"edge23\" class=\"edge\">\n<title>5006684944&#45;&gt;5006684848*</title>\n<path fill=\"none\" stroke=\"black\" d=\"M1235.07,-143.52C1244.16,-145.12 1252.97,-146.68 1260.96,-148.09\"/>\n<polygon fill=\"black\" stroke=\"black\" points=\"1260.21,-151.69 1270.66,-149.98 1261.42,-144.79 1260.21,-151.69\"/>\n</g>\n<!-- 5006684944+&#45;&gt;5006684944 -->\n<g id=\"edge6\" class=\"edge\">\n<title>5006684944+&#45;&gt;5006684944</title>\n<path fill=\"none\" stroke=\"black\" d=\"M1015.78,-127.5C1023.2,-127.5 1031.76,-127.5 1040.85,-127.5\"/>\n<polygon fill=\"black\" stroke=\"black\" points=\"1040.72,-131 1050.72,-127.5 1040.72,-124 1040.72,-131\"/>\n</g>\n<!-- 5005916432 -->\n<g id=\"node16\" class=\"node\">\n<title>5005916432</title>\n<polygon fill=\"none\" stroke=\"black\" points=\"3.75,-110.5 3.75,-146.5 194.25,-146.5 194.25,-110.5 3.75,-110.5\"/>\n<text text-anchor=\"middle\" x=\"18.5\" y=\"-123.7\" font-family=\"Times,serif\" font-size=\"14.00\">x2</text>\n<polyline fill=\"none\" stroke=\"black\" points=\"33.25,-111 33.25,-146.5\"/>\n<text text-anchor=\"middle\" x=\"73.12\" y=\"-123.7\" font-family=\"Times,serif\" font-size=\"14.00\">data 0.0000</text>\n<polyline fill=\"none\" stroke=\"black\" points=\"113,-111 113,-146.5\"/>\n<text text-anchor=\"middle\" x=\"153.62\" y=\"-123.7\" font-family=\"Times,serif\" font-size=\"14.00\">grad 0.5001</text>\n</g>\n<!-- 5005916432&#45;&gt;5006688160* -->\n<g id=\"edge24\" class=\"edge\">\n<title>5005916432&#45;&gt;5006688160*</title>\n<path fill=\"none\" stroke=\"black\" d=\"M194,-128.5C204.12,-128.5 213.93,-128.5 222.76,-128.5\"/>\n<polygon fill=\"black\" stroke=\"black\" points=\"222.74,-132 232.74,-128.5 222.74,-125 222.74,-132\"/>\n</g>\n<!-- 5006686000 -->\n<g id=\"node17\" class=\"node\">\n<title>5006686000</title>\n<polygon fill=\"none\" stroke=\"black\" points=\"1670.25,-136.5 1670.25,-172.5 1851,-172.5 1851,-136.5 1670.25,-136.5\"/>\n<text text-anchor=\"middle\" x=\"1680.12\" y=\"-149.7\" font-family=\"Times,serif\" font-size=\"14.00\"> </text>\n<polyline fill=\"none\" stroke=\"black\" points=\"1690,-137 1690,-172.5\"/>\n<text text-anchor=\"middle\" x=\"1729.88\" y=\"-149.7\" font-family=\"Times,serif\" font-size=\"14.00\">data 5.8268</text>\n<polyline fill=\"none\" stroke=\"black\" points=\"1769.75,-137 1769.75,-172.5\"/>\n<text text-anchor=\"middle\" x=\"1810.38\" y=\"-149.7\" font-family=\"Times,serif\" font-size=\"14.00\">grad 0.0429</text>\n</g>\n<!-- 5006686000&#45;&gt;5006684368+ -->\n<g id=\"edge14\" class=\"edge\">\n<title>5006686000&#45;&gt;5006684368+</title>\n<path fill=\"none\" stroke=\"black\" d=\"M1850.99,-138.21C1860.9,-136.41 1870.53,-134.65 1879.19,-133.07\"/>\n<polygon fill=\"black\" stroke=\"black\" points=\"1879.74,-136.35 1888.95,-131.11 1878.48,-129.46 1879.74,-136.35\"/>\n</g>\n<!-- 5006686000&#45;&gt;5006684896+ -->\n<g id=\"edge20\" class=\"edge\">\n<title>5006686000&#45;&gt;5006684896+</title>\n<path fill=\"none\" stroke=\"black\" d=\"M1850.99,-170.21C1860.81,-171.93 1870.35,-173.61 1878.94,-175.12\"/>\n<polygon fill=\"black\" stroke=\"black\" points=\"1878.18,-178.71 1888.64,-177 1879.4,-171.82 1878.18,-178.71\"/>\n</g>\n<!-- 5006686000exp&#45;&gt;5006686000 -->\n<g id=\"edge7\" class=\"edge\">\n<title>5006686000exp&#45;&gt;5006686000</title>\n<path fill=\"none\" stroke=\"black\" d=\"M1632.41,-154.5C1640.41,-154.5 1649.72,-154.5 1659.59,-154.5\"/>\n<polygon fill=\"black\" stroke=\"black\" points=\"1659.49,-158 1669.49,-154.5 1659.49,-151 1659.49,-158\"/>\n</g>\n<!-- 5006684992 -->\n<g id=\"node19\" class=\"node\">\n<title>5006684992</title>\n<polygon fill=\"none\" stroke=\"black\" points=\"668.25,-82.5 668.25,-118.5 925.5,-118.5 925.5,-82.5 668.25,-82.5\"/>\n<text text-anchor=\"middle\" x=\"714.12\" y=\"-95.7\" font-family=\"Times,serif\" font-size=\"14.00\">x1w1 + x2w2</text>\n<polyline fill=\"none\" stroke=\"black\" points=\"760,-83 760,-118.5\"/>\n<text text-anchor=\"middle\" x=\"802.12\" y=\"-95.7\" font-family=\"Times,serif\" font-size=\"14.00\">data &#45;6.0000</text>\n<polyline fill=\"none\" stroke=\"black\" points=\"844.25,-83 844.25,-118.5\"/>\n<text text-anchor=\"middle\" x=\"884.88\" y=\"-95.7\" font-family=\"Times,serif\" font-size=\"14.00\">grad 0.5001</text>\n</g>\n<!-- 5006684992&#45;&gt;5006684944+ -->\n<g id=\"edge15\" class=\"edge\">\n<title>5006684992&#45;&gt;5006684944+</title>\n<path fill=\"none\" stroke=\"black\" d=\"M924.09,-118.47C933.64,-119.83 942.71,-121.12 950.84,-122.28\"/>\n<polygon fill=\"black\" stroke=\"black\" points=\"950.28,-125.88 960.68,-123.82 951.27,-118.95 950.28,-125.88\"/>\n</g>\n<!-- 5006684992+&#45;&gt;5006684992 -->\n<g id=\"edge8\" class=\"edge\">\n<title>5006684992+&#45;&gt;5006684992</title>\n<path fill=\"none\" stroke=\"black\" d=\"M632.62,-100.5C640.01,-100.5 648.59,-100.5 657.88,-100.5\"/>\n<polygon fill=\"black\" stroke=\"black\" points=\"657.64,-104 667.64,-100.5 657.64,-97 657.64,-104\"/>\n</g>\n<!-- 5006685520 -->\n<g id=\"node21\" class=\"node\">\n<title>5006685520</title>\n<polygon fill=\"none\" stroke=\"black\" points=\"2724,-135.5 2724,-171.5 2907.75,-171.5 2907.75,-135.5 2724,-135.5\"/>\n<text text-anchor=\"middle\" x=\"2735.38\" y=\"-148.7\" font-family=\"Times,serif\" font-size=\"14.00\">o</text>\n<polyline fill=\"none\" stroke=\"black\" points=\"2746.75,-136 2746.75,-171.5\"/>\n<text text-anchor=\"middle\" x=\"2786.62\" y=\"-148.7\" font-family=\"Times,serif\" font-size=\"14.00\">data 0.7070</text>\n<polyline fill=\"none\" stroke=\"black\" points=\"2826.5,-136 2826.5,-171.5\"/>\n<text text-anchor=\"middle\" x=\"2867.12\" y=\"-148.7\" font-family=\"Times,serif\" font-size=\"14.00\">grad 1.0000</text>\n</g>\n<!-- 5006685520*&#45;&gt;5006685520 -->\n<g id=\"edge9\" class=\"edge\">\n<title>5006685520*&#45;&gt;5006685520</title>\n<path fill=\"none\" stroke=\"black\" d=\"M2688.28,-153.5C2695.7,-153.5 2704.26,-153.5 2713.35,-153.5\"/>\n<polygon fill=\"black\" stroke=\"black\" points=\"2713.22,-157 2723.22,-153.5 2713.22,-150 2713.22,-157\"/>\n</g>\n<!-- 5005916960 -->\n<g id=\"node23\" class=\"node\">\n<title>5005916960</title>\n<polygon fill=\"none\" stroke=\"black\" points=\"1.5,-55.5 1.5,-91.5 196.5,-91.5 196.5,-55.5 1.5,-55.5\"/>\n<text text-anchor=\"middle\" x=\"16.25\" y=\"-68.7\" font-family=\"Times,serif\" font-size=\"14.00\">x1</text>\n<polyline fill=\"none\" stroke=\"black\" points=\"31,-56 31,-91.5\"/>\n<text text-anchor=\"middle\" x=\"70.88\" y=\"-68.7\" font-family=\"Times,serif\" font-size=\"14.00\">data 2.0000</text>\n<polyline fill=\"none\" stroke=\"black\" points=\"110.75,-56 110.75,-91.5\"/>\n<text text-anchor=\"middle\" x=\"153.62\" y=\"-68.7\" font-family=\"Times,serif\" font-size=\"14.00\">grad &#45;1.5003</text>\n</g>\n<!-- 5005916960&#45;&gt;5005464096* -->\n<g id=\"edge21\" class=\"edge\">\n<title>5005916960&#45;&gt;5005464096*</title>\n<path fill=\"none\" stroke=\"black\" d=\"M196.3,-73.5C205.57,-73.5 214.53,-73.5 222.66,-73.5\"/>\n<polygon fill=\"black\" stroke=\"black\" points=\"222.55,-77 232.55,-73.5 222.55,-70 222.55,-77\"/>\n</g>\n<!-- 5005914944 -->\n<g id=\"node24\" class=\"node\">\n<title>5005914944</title>\n<polygon fill=\"none\" stroke=\"black\" points=\"0,-0.5 0,-36.5 198,-36.5 198,-0.5 0,-0.5\"/>\n<text text-anchor=\"middle\" x=\"16.25\" y=\"-13.7\" font-family=\"Times,serif\" font-size=\"14.00\">w1</text>\n<polyline fill=\"none\" stroke=\"black\" points=\"32.5,-1 32.5,-36.5\"/>\n<text text-anchor=\"middle\" x=\"74.62\" y=\"-13.7\" font-family=\"Times,serif\" font-size=\"14.00\">data &#45;3.0000</text>\n<polyline fill=\"none\" stroke=\"black\" points=\"116.75,-1 116.75,-36.5\"/>\n<text text-anchor=\"middle\" x=\"157.38\" y=\"-13.7\" font-family=\"Times,serif\" font-size=\"14.00\">grad 1.0002</text>\n</g>\n<!-- 5005914944&#45;&gt;5005464096* -->\n<g id=\"edge18\" class=\"edge\">\n<title>5005914944&#45;&gt;5005464096*</title>\n<path fill=\"none\" stroke=\"black\" d=\"M170.28,-36.44C179.67,-39.25 189.12,-42.29 198,-45.5 208.31,-49.22 219.28,-53.92 229.1,-58.41\"/>\n<polygon fill=\"black\" stroke=\"black\" points=\"227.28,-61.89 237.82,-62.95 230.24,-55.54 227.28,-61.89\"/>\n</g>\n<!-- 5006688016 -->\n<g id=\"node25\" class=\"node\">\n<title>5006688016</title>\n<polygon fill=\"none\" stroke=\"black\" points=\"1668,-191.5 1668,-227.5 1853.25,-227.5 1853.25,-191.5 1668,-191.5\"/>\n<text text-anchor=\"middle\" x=\"1677.88\" y=\"-204.7\" font-family=\"Times,serif\" font-size=\"14.00\"> </text>\n<polyline fill=\"none\" stroke=\"black\" points=\"1687.75,-192 1687.75,-227.5\"/>\n<text text-anchor=\"middle\" x=\"1729.88\" y=\"-204.7\" font-family=\"Times,serif\" font-size=\"14.00\">data &#45;1.0000</text>\n<polyline fill=\"none\" stroke=\"black\" points=\"1772,-192 1772,-227.5\"/>\n<text text-anchor=\"middle\" x=\"1812.62\" y=\"-204.7\" font-family=\"Times,serif\" font-size=\"14.00\">grad 0.1465</text>\n</g>\n<!-- 5006688016&#45;&gt;5006684896+ -->\n<g id=\"edge28\" class=\"edge\">\n<title>5006688016&#45;&gt;5006684896+</title>\n<path fill=\"none\" stroke=\"black\" d=\"M1853.21,-192.81C1862.29,-191.15 1871.09,-189.55 1879.07,-188.09\"/>\n<polygon fill=\"black\" stroke=\"black\" points=\"1879.53,-191.39 1888.74,-186.15 1878.28,-184.5 1879.53,-191.39\"/>\n</g>\n<!-- 5006688160 -->\n<g id=\"node26\" class=\"node\">\n<title>5006688160</title>\n<polygon fill=\"none\" stroke=\"black\" points=\"326.25,-110.5 326.25,-146.5 540,-146.5 540,-110.5 326.25,-110.5\"/>\n<text text-anchor=\"middle\" x=\"352.62\" y=\"-123.7\" font-family=\"Times,serif\" font-size=\"14.00\">x2*w2</text>\n<polyline fill=\"none\" stroke=\"black\" points=\"379,-111 379,-146.5\"/>\n<text text-anchor=\"middle\" x=\"418.88\" y=\"-123.7\" font-family=\"Times,serif\" font-size=\"14.00\">data 0.0000</text>\n<polyline fill=\"none\" stroke=\"black\" points=\"458.75,-111 458.75,-146.5\"/>\n<text text-anchor=\"middle\" x=\"499.38\" y=\"-123.7\" font-family=\"Times,serif\" font-size=\"14.00\">grad 0.5001</text>\n</g>\n<!-- 5006688160&#45;&gt;5006684992+ -->\n<g id=\"edge17\" class=\"edge\">\n<title>5006688160&#45;&gt;5006684992+</title>\n<path fill=\"none\" stroke=\"black\" d=\"M539.93,-111.09C549.89,-109.45 559.45,-107.87 568.01,-106.46\"/>\n<polygon fill=\"black\" stroke=\"black\" points=\"568.34,-109.79 577.64,-104.72 567.2,-102.89 568.34,-109.79\"/>\n</g>\n<!-- 5006688160*&#45;&gt;5006688160 -->\n<g id=\"edge10\" class=\"edge\">\n<title>5006688160*&#45;&gt;5006688160</title>\n<path fill=\"none\" stroke=\"black\" d=\"M288.21,-128.5C296.23,-128.5 305.63,-128.5 315.71,-128.5\"/>\n<polygon fill=\"black\" stroke=\"black\" points=\"315.43,-132 325.43,-128.5 315.43,-125 315.43,-132\"/>\n</g>\n<!-- 5006685616 -->\n<g id=\"node28\" class=\"node\">\n<title>5006685616</title>\n<polygon fill=\"none\" stroke=\"black\" points=\"1668,-81.5 1668,-117.5 1853.25,-117.5 1853.25,-81.5 1668,-81.5\"/>\n<text text-anchor=\"middle\" x=\"1677.88\" y=\"-94.7\" font-family=\"Times,serif\" font-size=\"14.00\"> </text>\n<polyline fill=\"none\" stroke=\"black\" points=\"1687.75,-82 1687.75,-117.5\"/>\n<text text-anchor=\"middle\" x=\"1727.62\" y=\"-94.7\" font-family=\"Times,serif\" font-size=\"14.00\">data 1.0000</text>\n<polyline fill=\"none\" stroke=\"black\" points=\"1767.5,-82 1767.5,-117.5\"/>\n<text text-anchor=\"middle\" x=\"1810.38\" y=\"-94.7\" font-family=\"Times,serif\" font-size=\"14.00\">grad &#45;0.1036</text>\n</g>\n<!-- 5006685616&#45;&gt;5006684368+ -->\n<g id=\"edge27\" class=\"edge\">\n<title>5006685616&#45;&gt;5006684368+</title>\n<path fill=\"none\" stroke=\"black\" d=\"M1853.21,-115.6C1862.29,-117.19 1871.09,-118.74 1879.07,-120.14\"/>\n<polygon fill=\"black\" stroke=\"black\" points=\"1878.29,-123.73 1888.74,-122.02 1879.5,-116.84 1878.29,-123.73\"/>\n</g>\n</g>\n</svg>\n",
      "text/plain": [
       "<graphviz.graphs.Digraph at 0x12a672c70>"
      ]
     },
     "execution_count": 151,
     "metadata": {},
     "output_type": "execute_result"
    }
   ],
   "source": [
    "draw_dot(o)"
   ]
  },
  {
   "cell_type": "code",
   "execution_count": 210,
   "metadata": {},
   "outputs": [],
   "source": [
    "class Neuron:\n",
    "    def __init__(self, nin):\n",
    "        self.w = [Value(random.uniform(-1, 1)) for _ in range(nin)]\n",
    "        self.b = Value(random.uniform(-1, 1))\n",
    "    \n",
    "    def __call__(self, x):\n",
    "        # w * x + b\n",
    "       act = sum((wi * xi for wi, xi in zip(self.w, x)), self.b)\n",
    "       out = act.tanh()\n",
    "       return out\n",
    "    \n",
    "    def parameters(self):\n",
    "        return self.w + [self.b]\n",
    "\n",
    "class Layer:\n",
    "    def __init__(self, nin, nout):\n",
    "        self.neurons = [Neuron(nin) for _ in range(nout)]\n",
    "    \n",
    "    def __call__(self, x):\n",
    "        outs = [n(x) for n in self.neurons]\n",
    "        return outs[0] if len(outs) == 1 else outs\n",
    "    \n",
    "    def parameters(self):\n",
    "        return [p for neuron in self.neurons for p in neuron.parameters()]\n",
    "\n",
    "class MLP:\n",
    "    def __init__(self, nin, nouts):\n",
    "        sz = [nin] + nouts\n",
    "        self.layers = [Layer(sz[i], sz[i+1]) for i in range(len(nouts))]\n",
    "    \n",
    "    def __call__(self, x):\n",
    "        for layer in self.layers:\n",
    "            x = layer(x)\n",
    "        return x\n",
    "    \n",
    "    def parameters(self):\n",
    "        return [p for layer in self.layers for p in layer.parameters()]"
   ]
  },
  {
   "cell_type": "code",
   "execution_count": 341,
   "metadata": {},
   "outputs": [
    {
     "data": {
      "text/plain": [
       "Value(data=-0.23005556550661221)"
      ]
     },
     "execution_count": 341,
     "metadata": {},
     "output_type": "execute_result"
    }
   ],
   "source": [
    "x = [2.0, 3.0, -1.0]\n",
    "n = MLP(3, [4, 4, 1])\n",
    "n(x)"
   ]
  },
  {
   "cell_type": "code",
   "execution_count": 342,
   "metadata": {},
   "outputs": [
    {
     "data": {
      "text/plain": [
       "[Value(data=-0.7591141242008315),\n",
       " Value(data=0.2542225106674998),\n",
       " Value(data=0.7692245831490341),\n",
       " Value(data=0.9385091400757815),\n",
       " Value(data=0.3075308327251005),\n",
       " Value(data=0.9397501437827349),\n",
       " Value(data=-0.4232626273723219),\n",
       " Value(data=-0.2659766975738216),\n",
       " Value(data=0.9703746169313163),\n",
       " Value(data=-0.8961108494493266),\n",
       " Value(data=0.33512151247665134),\n",
       " Value(data=0.6699783303567373),\n",
       " Value(data=0.17196259749127596),\n",
       " Value(data=0.12150989867570883),\n",
       " Value(data=0.9079810067230842),\n",
       " Value(data=-0.25381852641235203),\n",
       " Value(data=0.8901635838679831),\n",
       " Value(data=0.7845458524233677),\n",
       " Value(data=0.4861679885045187),\n",
       " Value(data=-0.323278022708017),\n",
       " Value(data=0.5020813608268173),\n",
       " Value(data=-0.5817839601843604),\n",
       " Value(data=-0.8832427470481687),\n",
       " Value(data=-0.717548212873476),\n",
       " Value(data=0.7591453750488253),\n",
       " Value(data=0.24660976723479422),\n",
       " Value(data=0.4364795014279712),\n",
       " Value(data=0.8439397596509801),\n",
       " Value(data=-0.29080044212837075),\n",
       " Value(data=-0.6094353366843055),\n",
       " Value(data=-0.49394656650961366),\n",
       " Value(data=0.028463862336951085),\n",
       " Value(data=0.544871418762412),\n",
       " Value(data=0.041760598628129975),\n",
       " Value(data=-0.4705581367837719),\n",
       " Value(data=0.6923700556645489),\n",
       " Value(data=0.3070170105986565),\n",
       " Value(data=0.9169049638287168),\n",
       " Value(data=-0.9222261537880403),\n",
       " Value(data=0.5499002360208578),\n",
       " Value(data=-0.17447918112434757)]"
      ]
     },
     "execution_count": 342,
     "metadata": {},
     "output_type": "execute_result"
    }
   ],
   "source": [
    "n.parameters()"
   ]
  },
  {
   "cell_type": "code",
   "execution_count": 343,
   "metadata": {},
   "outputs": [
    {
     "data": {
      "text/plain": [
       "41"
      ]
     },
     "execution_count": 343,
     "metadata": {},
     "output_type": "execute_result"
    }
   ],
   "source": [
    "len(n.parameters())"
   ]
  },
  {
   "cell_type": "code",
   "execution_count": 344,
   "metadata": {},
   "outputs": [],
   "source": [
    "xs = [\n",
    "    [2.0, 3.0, -1.0],\n",
    "    [3.0, -1.0, 0.5],\n",
    "    [0.5, 1.0, 1.0],\n",
    "    [1.0, 1.0, -1.0],\n",
    "]\n",
    "ys = [1.0, -1.0, -1.0, 1.0]"
   ]
  },
  {
   "cell_type": "code",
   "execution_count": 367,
   "metadata": {},
   "outputs": [
    {
     "name": "stdout",
     "output_type": "stream",
     "text": [
      "0 0.0032509524018846064\n",
      "1 0.0032129176525276452\n",
      "2 0.0031757385502570097\n",
      "3 0.0031393869306196\n",
      "4 0.0031038358416061074\n",
      "5 0.003069059479473546\n",
      "6 0.003035033128584469\n",
      "7 0.003001733104973642\n",
      "8 0.002969136703376288\n",
      "9 0.0029372221474736533\n",
      "10 0.00290596854313064\n",
      "11 0.0028753558344186392\n",
      "12 0.0028453647622323657\n",
      "13 0.002815976825324396\n",
      "14 0.0027871742435949766\n",
      "15 0.002758939923486601\n",
      "16 0.0027312574253442424\n",
      "17 0.002704110932612793\n",
      "18 0.00267748522275253\n",
      "19 0.002651365639761951\n"
     ]
    }
   ],
   "source": [
    "for k in range(20):\n",
    "    # forward pass\n",
    "    ypred = [n(x) for x in xs]\n",
    "    loss = sum([(yout - ygt)**2 for ygt, yout in zip(ys, ypred)])\n",
    "\n",
    "    # backward pass\n",
    "    for p in n.parameters():\n",
    "        p.grad = 0.0\n",
    "    loss.backward()\n",
    "\n",
    "    # update\n",
    "    for p in n.parameters():\n",
    "        p.data += -0.1 * p.grad\n",
    "    \n",
    "    print(k, loss.data)"
   ]
  },
  {
   "cell_type": "code",
   "execution_count": 368,
   "metadata": {},
   "outputs": [
    {
     "data": {
      "text/plain": [
       "[Value(data=0.9791186776864399),\n",
       " Value(data=-0.9728492469626883),\n",
       " Value(data=-0.9723096242564278),\n",
       " Value(data=0.9733276225490516)]"
      ]
     },
     "execution_count": 368,
     "metadata": {},
     "output_type": "execute_result"
    }
   ],
   "source": [
    "ypred"
   ]
  },
  {
   "cell_type": "code",
   "execution_count": null,
   "metadata": {},
   "outputs": [],
   "source": []
  }
 ],
 "metadata": {
  "kernelspec": {
   "display_name": "gpt",
   "language": "python",
   "name": "python3"
  },
  "language_info": {
   "codemirror_mode": {
    "name": "ipython",
    "version": 3
   },
   "file_extension": ".py",
   "mimetype": "text/x-python",
   "name": "python",
   "nbconvert_exporter": "python",
   "pygments_lexer": "ipython3",
   "version": "3.8.16"
  },
  "orig_nbformat": 4,
  "vscode": {
   "interpreter": {
    "hash": "d5a0b444e661bb8fb76c782e582056545e41a54d1e77c2d93bfa3749272d3f43"
   }
  }
 },
 "nbformat": 4,
 "nbformat_minor": 2
}
